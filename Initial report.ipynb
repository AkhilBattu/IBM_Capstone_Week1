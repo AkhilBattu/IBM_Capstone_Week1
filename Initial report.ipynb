{
 "cells": [
  {
   "cell_type": "markdown",
   "metadata": {},
   "source": [
    "# The Battle of Neighborhoods\n",
    "\n",
    "## 1. Introduction:\n",
    "\n",
    "The main objective of this project is to help people find places with better facilities around their neighbourhood. This analysis will help people to make efficient decision in finding a place in the neighborhoods of Mecklenburg County. \n",
    "\n",
    "Many people are migrating to many different states of USA and need a lot of research for sound housing prices and reputed schools for their children. This project is for those people who are looking for better neighborhoods. For ease of accessing to Cafe, School, Supermarket, medical shops, grocery shops, mall, theatre, hospital, like-minded people, etc.\n",
    "\n",
    "This project intends to create an analysis of features for people who are migrating to Mecklenburg County, NC in search of the best neighborhood as a relative analysis between neighborhoods. The highlights include median housing price and better school according to ratings, crime rates of that particular area, road connectivity, weather conditions, good management for an emergency, water resources both fresh and wastewater and excrement conveyed in sewers and recreational facilities.\n",
    "\n",
    "It will help people to get the awareness of the area and neighborhood before moving to a new city, state, country or place for their work or to start a new fresh life.\n",
    "\n",
    "## Problem Statement\n",
    "\n",
    "The major goal of this project is to recommend a better neighborhood in a new city for the person who is moving there. Connectivity to the airport, grocery store, shopping malls, movie theatres and other daily needs nearby. This will be perfect for like minded people only.\n",
    "\n",
    "1. To find out the best house ratings, prices and nearby amenities in the neighborhoods.\n",
    "2. To find schools with best ratings, fees and distance.\n",
    "\n",
    "## Work Flow\n",
    "\n",
    "Using credentials of Foursquare API features of near-by places of the neighborhoods would be mined. Due to HTTP request restrictions, the number of places per neighborhood parameter would reasonably be set to 100 and the radius parameter would be set to 500.\n",
    "\n",
    "## Clustering Strategy\n",
    "\n",
    "To compare the similarities of two cities, we decided to examine neighborhoods, segment them, and group them into clusters to find similar neighborhoods in a big city like New York and Toronto. To be able to do that, we need to cluster data which is a form of unsupervised machine learning: a k-means clustering algorithm\n",
    "\n",
    "## Libraries Which are Used to Develope the Project\n",
    "\n",
    "1. Pandas: To create and manipulate data frames.\n",
    "2. Folium: Python visualization library would be used to visualize the neighborhood cluster distribution of using an interactive leaflet map.\n",
    "3. Scikit Learn: To import k-means clustering.\n",
    "4. JSON: Library to handle JSON files.\n",
    "5. XML: To separate data from presentation and XML stores data in plain text format.\n",
    "6. Geocoder: To retrieve Location Data.\n",
    "7. Beautiful Soup and Requests: To scrap and library to handle HTTP requests.\n",
    "8. Matplotlib: To Python Plotting Module."
   ]
  },
  {
   "cell_type": "code",
   "execution_count": null,
   "metadata": {},
   "outputs": [],
   "source": []
  }
 ],
 "metadata": {
  "kernelspec": {
   "display_name": "Python 3",
   "language": "python",
   "name": "python3"
  },
  "language_info": {
   "codemirror_mode": {
    "name": "ipython",
    "version": 3
   },
   "file_extension": ".py",
   "mimetype": "text/x-python",
   "name": "python",
   "nbconvert_exporter": "python",
   "pygments_lexer": "ipython3",
   "version": "3.7.3"
  }
 },
 "nbformat": 4,
 "nbformat_minor": 2
}
